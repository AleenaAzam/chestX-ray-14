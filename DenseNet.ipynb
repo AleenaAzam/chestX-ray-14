{
 "cells": [
  {
   "cell_type": "code",
   "execution_count": 109,
   "metadata": {},
   "outputs": [],
   "source": [
    "import torch\n",
    "from torch.utils.data import Dataset, DataLoader\n",
    "from torch.autograd import Variable\n",
    "from torch.optim.lr_scheduler import ReduceLROnPlateau\n",
    "import torch.optim as optim\n",
    "\n",
    "import torch.nn as nn\n",
    "import torchvision\n",
    "import torchvision.transforms as transforms\n",
    "\n",
    "from sklearn.metrics import roc_auc_score, roc_curve\n",
    "import numpy as np\n",
    "\n",
    "from PIL import Image\n",
    "import pandas as pd\n",
    "import matplotlib.pyplot as plt\n",
    "%matplotlib inline"
   ]
  },
  {
   "cell_type": "markdown",
   "metadata": {},
   "source": [
    "### Common CONSTANT"
   ]
  },
  {
   "cell_type": "code",
   "execution_count": 25,
   "metadata": {},
   "outputs": [],
   "source": [
    "N_CLASSES = 14\n",
    "CLASS_NAMES = [ 'Atelectasis', 'Cardiomegaly', 'Effusion', 'Infiltration', 'Mass', 'Nodule', 'Pneumonia',\n",
    "                'Pneumothorax', 'Consolidation', 'Edema', 'Emphysema', 'Fibrosis', 'Pleural_Thickening', 'Hernia']\n",
    "WIDTH = 224\n",
    "HEIGHT = 224\n",
    "CHANNELS = 3\n",
    "BATCHSIZE = 16 #64*2\n",
    "IMAGENET_RGB_MEAN = [0.485, 0.456, 0.406]\n",
    "IMAGENET_RGB_SD = [0.229, 0.224, 0.225]\n",
    "DATA_DIR = '/home/dattran/data/xray/'\n",
    "PERCENTAGE = 0.01 # percentage of data use for quick run\n",
    "MODEL_NAME = 'model.pth.tar'"
   ]
  },
  {
   "cell_type": "code",
   "execution_count": 3,
   "metadata": {},
   "outputs": [
    {
     "name": "stdout",
     "output_type": "stream",
     "text": [
      "train val size\n",
      "76193\n",
      "test size\n",
      "19049\n"
     ]
    }
   ],
   "source": [
    "# check the length of NIH training validation and testing set\n",
    "print('train val size')\n",
    "!cat train_val_list.csv | wc -l\n",
    "print('test size')\n",
    "!cat test_list.csv | wc -l"
   ]
  },
  {
   "cell_type": "markdown",
   "metadata": {},
   "source": [
    "### Utitlity for traininng and testing"
   ]
  },
  {
   "cell_type": "code",
   "execution_count": 106,
   "metadata": {},
   "outputs": [],
   "source": [
    "class XrayDataset(Dataset):\n",
    "    '''\n",
    "    Get image for train, validate and test base on NIH split\n",
    "    '''\n",
    "    \n",
    "    def __init__(self, \n",
    "                 image_list_file='test_list.csv', \n",
    "                 transform=None, \n",
    "                 percentage=0.01):\n",
    "        data = pd.read_csv(image_list_file, sep=' ', header=None)\n",
    "        self.images = data.iloc[:, 0].as_matrix()\n",
    "        self.labels = data.iloc[:, 1:].as_matrix()\n",
    "        self.transform = transform\n",
    "        self.percentage = percentage\n",
    "    \n",
    "    def __getitem__(self, index):\n",
    "        image_file = DATA_DIR + self.images[index]\n",
    "        image = Image.open(image_file).convert('RGB')\n",
    "        label = self.labels[index]\n",
    "        if self.transform:\n",
    "            image = self.transform(image)\n",
    "        return image, torch.FloatTensor(label)\n",
    "    \n",
    "    def __len__(self):\n",
    "        return int(self.images.shape[0] * self.percentage)"
   ]
  },
  {
   "cell_type": "code",
   "execution_count": 96,
   "metadata": {},
   "outputs": [],
   "source": [
    "class DenseNet121(nn.Module):\n",
    "    \n",
    "    def __init__(self, out_size):\n",
    "        super(DenseNet121, self).__init__()\n",
    "        self.densenet121 = torchvision.models.densenet121(pretrained=True)\n",
    "        num_ftrs = self.densenet121.classifier.in_features\n",
    "        self.densenet121.classifier = nn.Sequential(\n",
    "            nn.Linear(num_ftrs, out_size),\n",
    "            nn.Sigmoid()\n",
    "        )\n",
    "        \n",
    "    def forward(self, x):\n",
    "        x = self.densenet121(x)\n",
    "        return x\n"
   ]
  },
  {
   "cell_type": "code",
   "execution_count": null,
   "metadata": {},
   "outputs": [],
   "source": [
    "def agumented_dataloader(image_list_file='train_val_list.csv', percentage=PERCENTAGE):\n",
    "    # TODO: Implement kFold for train test split\n",
    "    normalize = transforms.Normalize(IMAGENET_RGB_MEAN, IMAGENET_RGB_SD)\n",
    "    transform = transforms.Compose([\n",
    "        transforms.Resize(264),\n",
    "        transforms.RandomHorizontalFlip(),\n",
    "        transforms.RandomResizedCrop(size=WIDTH),\n",
    "        transforms.ColorJitter(0.15, 0.15),\n",
    "        transforms.RandomRotation(15),\n",
    "        transforms.ToTensor(),\n",
    "        normalize\n",
    "    ])\n",
    "    dataset = XrayDataset(image_list_file, transform, percentage)\n",
    "    return DataLoader(dataset=dataset, batch_size=BATCHSIZE,\n",
    "                      shuffle=True, num_workers=2, pin_memory=False)"
   ]
  },
  {
   "cell_type": "code",
   "execution_count": 82,
   "metadata": {},
   "outputs": [],
   "source": [
    "def non_agumented_dataloader(image_list_file='test_list.csv', percentage=PERCENTAGE):\n",
    "    normallize = transforms.Normalize(IMAGENET_RGB_MEAN, IMAGENET_RGB_SD)\n",
    "    transform = transforms.Compose([\n",
    "        transforms.Resize(WIDTH),\n",
    "        transforms.ToTensor(),\n",
    "        normallize\n",
    "    ])\n",
    "    dataset = XrayDataset(image_list_file, transform, percentage)\n",
    "    return DataLoader(dataset=dataset, batch_size=4*BATCHSIZE,\n",
    "                      shuffle=False, num_workers=4, pin_memory=False)"
   ]
  },
  {
   "cell_type": "code",
   "execution_count": 12,
   "metadata": {},
   "outputs": [],
   "source": [
    "def train_epoch(model, dataloader, optimizer, criterion):\n",
    "    model.train()\n",
    "    for data, target in dataloader:\n",
    "        data = Variable(torch.FloatTensor(data).cuda())\n",
    "        target = Variable(torch.FloatTensor(target).cuda())\n",
    "        \n",
    "        optimizer.zero_grad()\n",
    "        output = model(data)\n",
    "        loss = criterion(output, target)\n",
    "        loss.backward()\n",
    "        optimizer.step()"
   ]
  },
  {
   "cell_type": "code",
   "execution_count": 13,
   "metadata": {},
   "outputs": [],
   "source": [
    "def valid_epoch(model, dataloader, criterion):\n",
    "    model.eval()\n",
    "    losses = []\n",
    "    for data, target in dataloader:\n",
    "        data = Variable(torch.FloatTensor(data).cuda(), volatile=True)\n",
    "        target = Variable(torch.FloatTensor(target).cuda(), volatile=True)\n",
    "         \n",
    "        output = model(data)\n",
    "        loss = criterion(output, target)\n",
    "        loss_val.append(loss.data[0])\n",
    "    return np.mean(losses)\n",
    "        "
   ]
  },
  {
   "cell_type": "code",
   "execution_count": 112,
   "metadata": {},
   "outputs": [],
   "source": [
    "def test(model, dataloader):\n",
    "    targets = torch.FloatTensor()\n",
    "    targets = targets.cuda()\n",
    "    preds = torch.FloatTensor()\n",
    "    preds = preds.cuda()\n",
    "    \n",
    "    for data, target in dataloader:\n",
    "        target = target.cuda()\n",
    "        data = Variable(data.cuda(), volatile=True)\n",
    "        pred = model(data)\n",
    "        targets = torch.cat((targets, target), 0)\n",
    "        preds = torch.cat((preds, pred.data), 0)\n",
    "    aurocs = compute_aucs(targets, preds)\n",
    "    aurocs_avg = np.array(aurocs).mean()\n",
    "    print('The average AUROC is {0:.3f}'.format(aurocs_avg))\n",
    "    for i in range(N_CLASSES):\n",
    "        print('The AUROC of {} is {}'.format(CLASS_NAMES[i], aurocs[i]))"
   ]
  },
  {
   "cell_type": "code",
   "execution_count": 41,
   "metadata": {},
   "outputs": [],
   "source": [
    "def compute_aucs(targets, preds):\n",
    "    aurocs = []\n",
    "    targets = targets.cpu().numpy()\n",
    "    preds = preds.cpu().numpy()\n",
    "    for i in range(N_CLASSES):\n",
    "        aurocs.append(roc_auc_score(targets[:, i], preds[:, i]))\n",
    "    return aurocs"
   ]
  },
  {
   "cell_type": "code",
   "execution_count": 54,
   "metadata": {},
   "outputs": [],
   "source": [
    "net = DenseNet121(N_CLASSES).cuda()\n",
    "net = torch.nn.DataParallel(net, device_ids=[0]).cuda()\n",
    "optimizer = optim.Adam(net.parameters(), lr=0.001, betas=(0.9, 0.999))\n",
    "criterion = nn.BCELoss()\n",
    "scheduler = ReduceLROnPlateau(optimizer, factor=0.1, patience=5, mode='min')"
   ]
  },
  {
   "cell_type": "markdown",
   "metadata": {},
   "source": [
    "### Training"
   ]
  },
  {
   "cell_type": "code",
   "execution_count": null,
   "metadata": {},
   "outputs": [],
   "source": []
  },
  {
   "cell_type": "markdown",
   "metadata": {},
   "source": [
    "### Testing\n",
    "Should testing on strong label images"
   ]
  },
  {
   "cell_type": "code",
   "execution_count": 114,
   "metadata": {},
   "outputs": [],
   "source": [
    "test_loader = non_agumented_dataloader(percentage=1)\n",
    "checkpoint = torch.load(MODEL_NAME)\n",
    "net.load_state_dict(checkpoint['state_dict'])"
   ]
  },
  {
   "cell_type": "code",
   "execution_count": 115,
   "metadata": {},
   "outputs": [
    {
     "name": "stdout",
     "output_type": "stream",
     "text": [
      "The average AUROC is 0.859\n",
      "The AUROC of Atelectasis is 0.8481752104354701\n",
      "The AUROC of Cardiomegaly is 0.9298533506432424\n",
      "The AUROC of Effusion is 0.9106131955376795\n",
      "The AUROC of Infiltration is 0.7204998544257422\n",
      "The AUROC of Mass is 0.8894179363074527\n",
      "The AUROC of Nodule is 0.8017568727103292\n",
      "The AUROC of Pneumonia is 0.799804804435368\n",
      "The AUROC of Pneumothorax is 0.9099843188256744\n",
      "The AUROC of Consolidation is 0.826353023656907\n",
      "The AUROC of Edema is 0.9291931549027395\n",
      "The AUROC of Emphysema is 0.9372362707221347\n",
      "The AUROC of Fibrosis is 0.8353439849688982\n",
      "The AUROC of Pleural_Thickening is 0.8302341680090146\n",
      "The AUROC of Hernia is 0.8540255466083977\n"
     ]
    }
   ],
   "source": [
    "test(net, test_loader)"
   ]
  },
  {
   "cell_type": "code",
   "execution_count": null,
   "metadata": {},
   "outputs": [],
   "source": []
  },
  {
   "cell_type": "code",
   "execution_count": null,
   "metadata": {},
   "outputs": [],
   "source": []
  }
 ],
 "metadata": {
  "kernelspec": {
   "display_name": "Python 3",
   "language": "python",
   "name": "python3"
  },
  "language_info": {
   "codemirror_mode": {
    "name": "ipython",
    "version": 3
   },
   "file_extension": ".py",
   "mimetype": "text/x-python",
   "name": "python",
   "nbconvert_exporter": "python",
   "pygments_lexer": "ipython3",
   "version": "3.6.4"
  }
 },
 "nbformat": 4,
 "nbformat_minor": 2
}
