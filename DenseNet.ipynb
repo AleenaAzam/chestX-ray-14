{
 "cells": [
  {
   "cell_type": "code",
   "execution_count": 15,
   "metadata": {},
   "outputs": [],
   "source": [
    "import torch\n",
    "from torch.utils.data import Dataset\n",
    "from skimage.io import imread\n",
    "import pandas as pd"
   ]
  },
  {
   "cell_type": "code",
   "execution_count": 3,
   "metadata": {},
   "outputs": [
    {
     "name": "stdout",
     "output_type": "stream",
     "text": [
      "train val size\n",
      "86523\n",
      "test size\n",
      "25595\n"
     ]
    }
   ],
   "source": [
    "# check the length of NIH training validation and testing set\n",
    "print('train val size')\n",
    "!cat train_val_list.txt | wc -l\n",
    "print('test size')\n",
    "!cat test_list.txt | wc -l"
   ]
  },
  {
   "cell_type": "code",
   "execution_count": 13,
   "metadata": {},
   "outputs": [
    {
     "ename": "IndentationError",
     "evalue": "expected an indented block (<ipython-input-13-7310eab36224>, line 17)",
     "output_type": "error",
     "traceback": [
      "\u001b[0;36m  File \u001b[0;32m\"<ipython-input-13-7310eab36224>\"\u001b[0;36m, line \u001b[0;32m17\u001b[0m\n\u001b[0;31m    dataset = XrayDataset()\u001b[0m\n\u001b[0m                           ^\u001b[0m\n\u001b[0;31mIndentationError\u001b[0m\u001b[0;31m:\u001b[0m expected an indented block\n"
     ]
    }
   ],
   "source": [
    "class NIHDataset(Dataset):\n",
    "    '''\n",
    "    Get image for train, validate and test base on NIH split\n",
    "    '''\n",
    "    \n",
    "    def __init__(self, \n",
    "                 data_dir='/home/dattran/data/', \n",
    "                 df=pd.read_csv('xray.csv'),\n",
    "                 image_list_file='test_list.txt', \n",
    "                 transform=None, \n",
    "                 percentage=0.01):\n",
    "        image_files = []\n",
    "        with open(image_list_file) as f:\n",
    "            for line in f:\n",
    "                image_files.append(data_dir+line.strip())\n",
    "        n = len(image_files)\n",
    "        self.length = n * percentage\n",
    "        self.image_files = image_files\n",
    "        self.transform = transform\n",
    "        self.df = df\n",
    "        \n",
    "    def __get_item__(self, index):\n",
    "dataset = XrayDataset()\n",
    "        "
   ]
  },
  {
   "cell_type": "code",
   "execution_count": null,
   "metadata": {},
   "outputs": [],
   "source": []
  }
 ],
 "metadata": {
  "kernelspec": {
   "display_name": "Python 3",
   "language": "python",
   "name": "python3"
  },
  "language_info": {
   "codemirror_mode": {
    "name": "ipython",
    "version": 3
   },
   "file_extension": ".py",
   "mimetype": "text/x-python",
   "name": "python",
   "nbconvert_exporter": "python",
   "pygments_lexer": "ipython3",
   "version": "3.6.4"
  }
 },
 "nbformat": 4,
 "nbformat_minor": 2
}
