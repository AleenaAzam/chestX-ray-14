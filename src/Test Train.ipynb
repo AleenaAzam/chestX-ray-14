{
 "cells": [
  {
   "cell_type": "code",
   "execution_count": 1,
   "metadata": {},
   "outputs": [],
   "source": [
    "%matplotlib inline\n",
    "%reload_ext autoreload\n",
    "%autoreload 2"
   ]
  },
  {
   "cell_type": "code",
   "execution_count": 2,
   "metadata": {},
   "outputs": [],
   "source": [
    "from learn import Learner\n",
    "import pretrainedmodels\n",
    "from layers import Flatten, LSEPool2d\n",
    "from dataloader import ChestXrayDataLoader\n",
    "from dataset import ChestXray14Dataset\n",
    "from recorder import LearningRecorder\n",
    "import torch.nn as nn\n",
    "from transform import chest_xray_transfrom\n",
    "from metrics import aucs, auc\n",
    "import torch\n",
    "import matplotlib.pyplot as plt\n",
    "import numpy as np\n",
    "from pathlib import Path\n",
    "from datetime import datetime\n",
    "import torch.nn as nn\n",
    "\n",
    "import warnings\n",
    "warnings.filterwarnings(\"ignore\", category=DeprecationWarning) \n",
    "\n",
    "# import pixiedust"
   ]
  },
  {
   "cell_type": "code",
   "execution_count": 3,
   "metadata": {},
   "outputs": [
    {
     "name": "stdout",
     "output_type": "stream",
     "text": [
      "20190122-114636\n"
     ]
    }
   ],
   "source": [
    "PATH = Path('/mnt/data/xray-thesis/data/chestX-ray14')\n",
    "IMAGES = 'images'\n",
    "MODELS = 'models'\n",
    "\n",
    "model_name = datetime.strftime(datetime.now(), '%Y%m%d-%H%M%S')\n",
    "print(model_name)"
   ]
  },
  {
   "cell_type": "code",
   "execution_count": 4,
   "metadata": {},
   "outputs": [],
   "source": [
    "densenet = pretrainedmodels.__dict__['densenet121'](num_classes=1000, pretrained='imagenet')\n",
    "backbone = list(densenet.children())[:-1]\n",
    "model = nn.Sequential(\n",
    "    *backbone,\n",
    "    nn.AdaptiveAvgPool2d(1),\n",
    "    Flatten(),\n",
    "    nn.Linear(1024, 14)\n",
    ")\n",
    "\n",
    "model.cuda()\n",
    "tfms = chest_xray_transfrom(densenet, size=128, scale_factor=0.875)\n",
    "\n",
    "dataloader = ChestXrayDataLoader(tfms, batch_size=128, percentage=0.5)\n",
    "recorder = LearningRecorder(PATH/MODELS, model_name)\n",
    "criterion = nn.BCEWithLogitsLoss()\n",
    "learn = Learner(model, dataloader, criterion, recorder, PATH/MODELS, model_name)"
   ]
  },
  {
   "cell_type": "code",
   "execution_count": 12,
   "metadata": {
    "pixiedust": {
     "displayParams": {}
    }
   },
   "outputs": [
    {
     "name": "stderr",
     "output_type": "stream",
     "text": [
      " 74%|███████▍  | 227/307 [12:12<04:58,  3.73s/it]"
     ]
    }
   ],
   "source": [
    "learn.find_lr()"
   ]
  },
  {
   "cell_type": "code",
   "execution_count": 13,
   "metadata": {},
   "outputs": [
    {
     "data": {
      "image/png": "[encoded data removed]",
      "text/plain": [
       "<Figure size 432x288 with 1 Axes>"
      ]
     },
     "metadata": {
      "needs_background": "light"
     },
     "output_type": "display_data"
    }
   ],
   "source": [
    "learn.sched.plot(0, 6)"
   ]
  },
  {
   "cell_type": "code",
   "execution_count": 4,
   "metadata": {},
   "outputs": [
    {
     "data": {
      "application/vnd.jupyter.widget-view+json": {
       "model_id": "3b60ee4b892b4b92982276f6b0a28d48",
       "version_major": 2,
       "version_minor": 0
      },
      "text/plain": [
       "HBox(children=(IntProgress(value=0, description='Epoch', max=10, style=ProgressStyle(description_width='initia…"
      ]
     },
     "metadata": {},
     "output_type": "display_data"
    },
    {
     "name": "stderr",
     "output_type": "stream",
     "text": [
      "Train:   0%|          | 0/307 [00:00<?, ?it/s]                      "
     ]
    },
    {
     "name": "stdout",
     "output_type": "stream",
     "text": [
      "epoch      trn_loss   val_loss   trn_auc    val_auc    \n",
      "    0      0.469964   0.185749   0.509056   0.587957  \n"
     ]
    },
    {
     "name": "stderr",
     "output_type": "stream",
     "text": [
      "Train:   0%|          | 0/307 [00:00<?, ?it/s]                      "
     ]
    },
    {
     "name": "stdout",
     "output_type": "stream",
     "text": [
      "    1      0.181141   0.182534   0.569236   0.62309    ▼ ▼\n"
     ]
    },
    {
     "name": "stderr",
     "output_type": "stream",
     "text": [
      "Train:   0%|          | 0/307 [00:00<?, ?it/s]                      "
     ]
    },
    {
     "name": "stdout",
     "output_type": "stream",
     "text": [
      "    2      0.177833   0.180923   0.600479   0.62733    ▼ ▼\n"
     ]
    },
    {
     "name": "stderr",
     "output_type": "stream",
     "text": [
      "Train:   0%|          | 0/307 [00:00<?, ?it/s]                      "
     ]
    },
    {
     "name": "stdout",
     "output_type": "stream",
     "text": [
      "    3      0.17695    0.18259    0.610013   0.622341   ▼ △\n"
     ]
    },
    {
     "name": "stderr",
     "output_type": "stream",
     "text": [
      "Train:   0%|          | 0/307 [00:00<?, ?it/s]                      "
     ]
    },
    {
     "name": "stdout",
     "output_type": "stream",
     "text": [
      "    4      0.179569   0.184866   0.57895    0.608162   △ △\n"
     ]
    },
    {
     "name": "stderr",
     "output_type": "stream",
     "text": [
      "Train:   0%|          | 0/307 [00:00<?, ?it/s]                      "
     ]
    },
    {
     "name": "stdout",
     "output_type": "stream",
     "text": [
      "    5      0.181449   0.182822   0.571802   0.629771   △ ▼\n"
     ]
    },
    {
     "name": "stderr",
     "output_type": "stream",
     "text": [
      "Train:   0%|          | 0/307 [00:00<?, ?it/s]                      "
     ]
    },
    {
     "name": "stdout",
     "output_type": "stream",
     "text": [
      "    6      0.179786   0.187829   0.57811    0.613266   ▼ △\n"
     ]
    },
    {
     "name": "stderr",
     "output_type": "stream",
     "text": [
      "Train:   0%|          | 0/307 [00:00<?, ?it/s]                      "
     ]
    },
    {
     "name": "stdout",
     "output_type": "stream",
     "text": [
      "    7      0.178531   0.180359   0.588094   0.636832   ▼ ▼\n"
     ]
    },
    {
     "name": "stderr",
     "output_type": "stream",
     "text": [
      "Train:   0%|          | 0/307 [00:00<?, ?it/s]                      "
     ]
    },
    {
     "name": "stdout",
     "output_type": "stream",
     "text": [
      "    8      0.175999   0.178317   0.617173   0.656785   ▼ ▼\n"
     ]
    },
    {
     "name": "stderr",
     "output_type": "stream",
     "text": [
      "                                                                    \r"
     ]
    },
    {
     "name": "stdout",
     "output_type": "stream",
     "text": [
      "    9      0.174223   0.177687   0.640797   0.65173    ▼ ▼\n",
      "\n"
     ]
    }
   ],
   "source": [
    "lr = 1e-1\n",
    "learn.fit(lr, 10, metrics=[auc])"
   ]
  },
  {
   "cell_type": "code",
   "execution_count": null,
   "metadata": {},
   "outputs": [],
   "source": []
  }
 ],
 "metadata": {
  "kernelspec": {
   "display_name": "Python 3",
   "language": "python",
   "name": "python3"
  },
  "language_info": {
   "codemirror_mode": {
    "name": "ipython",
    "version": 3
   },
   "file_extension": ".py",
   "mimetype": "text/x-python",
   "name": "python",
   "nbconvert_exporter": "python",
   "pygments_lexer": "ipython3",
   "version": "3.7.0"
  }
 },
 "nbformat": 4,
 "nbformat_minor": 2
}
