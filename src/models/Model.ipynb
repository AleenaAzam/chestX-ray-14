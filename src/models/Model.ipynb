{
 "cells": [
  {
   "cell_type": "code",
   "execution_count": 66,
   "metadata": {},
   "outputs": [],
   "source": [
    "import torchvision\n",
    "import pretrainedmodels\n",
    "import torch\n",
    "import pretrainedmodels.utils as utils\n",
    "import torchvision.transforms as transforms\n",
    "import torchvision.models as models\n",
    "import torch.nn as nn\n",
    "import torch.nn.functional as F\n",
    "from PIL import Image"
   ]
  },
  {
   "cell_type": "code",
   "execution_count": 2,
   "metadata": {},
   "outputs": [],
   "source": [
    "model = pretrainedmodels.__dict__['densenet121'](num_classes=1000, pretrained='imagenet')\n",
    "\n",
    "load_img = utils.LoadImage()\n",
    "\n",
    "# transformations depending on the model\n",
    "# rescale, center crop, normalize, and others (ex: ToBGR, ToRange255)\n",
    "tf_img = utils.TransformImage(model) \n",
    "\n",
    "path_img = '/home/dattran/data/xray/00000001_000.png'\n",
    "\n",
    "input_img = load_img(path_img)\n",
    "input_tensor = tf_img(input_img)         # 3x400x225 -> 3x299x299 size may differ\n",
    "input_tensor = input_tensor.unsqueeze(0) # 3x299x299 -> 1x3x299x299\n",
    "input = torch.autograd.Variable(input_tensor,\n",
    "    requires_grad=False)"
   ]
  },
  {
   "cell_type": "code",
   "execution_count": 3,
   "metadata": {},
   "outputs": [
    {
     "data": {
      "text/plain": [
       "Variable containing:\n",
       "-7.6336e-01 -2.6342e-01 -4.4826e-01  ...  -3.6672e-01  1.1599e+00  1.1597e+00\n",
       "[torch.FloatTensor of size 1x1000]"
      ]
     },
     "execution_count": 3,
     "metadata": {},
     "output_type": "execute_result"
    }
   ],
   "source": [
    "output_logits = model(input)\n",
    "output_logits"
   ]
  },
  {
   "cell_type": "code",
   "execution_count": 5,
   "metadata": {},
   "outputs": [],
   "source": [
    "feature = model.features(input)"
   ]
  },
  {
   "cell_type": "code",
   "execution_count": 26,
   "metadata": {},
   "outputs": [
    {
     "data": {
      "text/plain": [
       "{'imagenet': {'input_range': [0, 1],\n",
       "  'input_size': [3, 224, 224],\n",
       "  'input_space': 'RGB',\n",
       "  'mean': [0.485, 0.456, 0.406],\n",
       "  'num_classes': 1000,\n",
       "  'std': [0.229, 0.224, 0.225],\n",
       "  'url': 'http://data.lip6.fr/cadene/pretrainedmodels/senet154-c7b49a05.pth'}}"
      ]
     },
     "execution_count": 26,
     "metadata": {},
     "output_type": "execute_result"
    }
   ],
   "source": [
    "pretrainedmodels.pretrained_settings['densenet121']\n",
    "# pretrainedmodels.pretrained_settings['senet154']"
   ]
  },
  {
   "cell_type": "code",
   "execution_count": 25,
   "metadata": {},
   "outputs": [
    {
     "data": {
      "text/plain": [
       "\u001b[0;31mSignature:\u001b[0m \u001b[0mf\u001b[0m\u001b[0;34m(\u001b[0m\u001b[0mnum_classes\u001b[0m\u001b[0;34m=\u001b[0m\u001b[0;36m1000\u001b[0m\u001b[0;34m,\u001b[0m \u001b[0mpretrained\u001b[0m\u001b[0;34m=\u001b[0m\u001b[0;34m'imagenet'\u001b[0m\u001b[0;34m)\u001b[0m\u001b[0;34m\u001b[0m\u001b[0m\n",
       "\u001b[0;31mDocstring:\u001b[0m\n",
       "Densenet-121 model from\n",
       "`\"Densely Connected Convolutional Networks\" <https://arxiv.org/pdf/1608.06993.pdf>`\n",
       "\u001b[0;31mFile:\u001b[0m      ~/miniconda2/envs/dat/lib/python3.6/site-packages/pretrainedmodels/models/torchvision_models.py\n",
       "\u001b[0;31mType:\u001b[0m      function\n"
      ]
     },
     "metadata": {},
     "output_type": "display_data"
    }
   ],
   "source": [
    "f=pretrainedmodels.__dict__['densenet121']"
   ]
  },
  {
   "cell_type": "code",
   "execution_count": 76,
   "metadata": {},
   "outputs": [],
   "source": [
    "model = pretrainedmodels.__dict__['densenet121'](num_classes=1000, pretrained='imagenet')\n",
    "model.eval()\n",
    "normalize = transforms.Normalize(model.mean, model.std)\n",
    "transform = transforms.Compose([\n",
    "        transforms.Resize(264),\n",
    "        transforms.RandomHorizontalFlip(),\n",
    "        transforms.RandomResizedCrop(size=512),\n",
    "        transforms.ColorJitter(0.15, 0.15),\n",
    "        transforms.RandomRotation(15),\n",
    "        transforms.ToTensor(),\n",
    "        normalize\n",
    "    ])\n",
    "image_file = '/home/dattran/data/xray/00000001_000.png'\n",
    "image = Image.open(image_file).convert('RGB')\n",
    "input_tensor = transform(image).unsqueeze(0)\n",
    "input = torch.autograd.Variable(input_tensor,\n",
    "    requires_grad=False)\n",
    "# output = model(input)\n",
    "# output"
   ]
  },
  {
   "cell_type": "code",
   "execution_count": 77,
   "metadata": {},
   "outputs": [
    {
     "name": "stdout",
     "output_type": "stream",
     "text": [
      "Feature torch.Size([1, 1024, 16, 16])\n",
      "Relu torch.Size([1, 1024, 16, 16])\n",
      "avg pool torch.Size([1, 1024])\n",
      "classify torch.Size([1, 1000])\n"
     ]
    }
   ],
   "source": [
    "class Densenet121(nn.Module):\n",
    "    \n",
    "    def __init__(self, out_size):\n",
    "        super(Densenet121, self).__init__()\n",
    "        model = models.densenet121(pretrained=True)  \n",
    "        self.features = nn.Sequential(*list(model.features.children()))\n",
    "        self.classifier = model.classifier\n",
    "#         num_ftrs = self.densenet121.classifier.in_features\n",
    "#         self.classifier = nn.Sequential(\n",
    "#             nn.Linear(num_ftrs, out_size),\n",
    "#             nn.Sigmoid()\n",
    "#         )\n",
    "        \n",
    "    \n",
    "    def forward(self, x):\n",
    "        x = self.features(x) # 1x1024x7x7\n",
    "        print('Feature', x.size())\n",
    "        x = F.relu(x, inplace=True) # 1x1024x7x7\n",
    "        print('Relu', x.size())\n",
    "        x = F.avg_pool2d(x, kernel_size=16, stride=1) # 1x1024x1x1\n",
    "        x = x.view(x.size(0), -1) # 1x1024\n",
    "#         x = self.classifier(x)\n",
    "        print('avg pool', x.size())\n",
    "        x = self.classifier(x) # 1x1000\n",
    "        print('classify', x.size())\n",
    "        return x\n",
    "    \n",
    "model = Densenet121(14)\n",
    "output = model(input)\n",
    "# output.size()"
   ]
  },
  {
   "cell_type": "code",
   "execution_count": 59,
   "metadata": {},
   "outputs": [],
   "source": [
    "# model = models.densenet121()\n",
    "# for m in model.modules():\n",
    "#     print(m)\n",
    "#     print('====')"
   ]
  },
  {
   "cell_type": "code",
   "execution_count": 70,
   "metadata": {},
   "outputs": [
    {
     "data": {
      "text/plain": [
       "\u001b[0;31mDocstring:\u001b[0m\n",
       "avg_pool2d(input, kernel_size, stride=None, padding=0, ceil_mode=False, count_include_pad=True) -> Variable\n",
       "\n",
       "Applies 2D average-pooling operation in kh x kw regions by step size\n",
       "dh x dw steps. The number of output features is equal to the number of\n",
       "input planes.\n",
       "\n",
       "See :class:`~torch.nn.AvgPool2d` for details and output shape.\n",
       "\n",
       "Args:\n",
       "    input: input tensor (minibatch x in_channels x iH x iW)\n",
       "    kernel_size: size of the pooling region. Can be a single number or a\n",
       "      tuple (kH x kW)\n",
       "    stride: stride of the pooling operation. Can be a single number or a\n",
       "      tuple (sH, sW). Default is equal to kernel size\n",
       "    padding: implicit zero paddings on both sides of the input. Can be a\n",
       "      single number or a tuple (padH, padW). Default: 0\n",
       "    ceil_mode: when True, will use `ceil` instead of `floor` in the formula\n",
       "        to compute the output shape. Default: ``False``\n",
       "    count_include_pad: when True, will include the zero-padding in th\n",
       "        averaging calculation. Default: ``True``\n",
       "\u001b[0;31mType:\u001b[0m      builtin_function_or_method\n"
      ]
     },
     "metadata": {},
     "output_type": "display_data"
    }
   ],
   "source": []
  },
  {
   "cell_type": "code",
   "execution_count": null,
   "metadata": {},
   "outputs": [],
   "source": []
  }
 ],
 "metadata": {
  "kernelspec": {
   "display_name": "Python 3",
   "language": "python",
   "name": "python3"
  },
  "language_info": {
   "codemirror_mode": {
    "name": "ipython",
    "version": 3
   },
   "file_extension": ".py",
   "mimetype": "text/x-python",
   "name": "python",
   "nbconvert_exporter": "python",
   "pygments_lexer": "ipython3",
   "version": "3.6.4"
  }
 },
 "nbformat": 4,
 "nbformat_minor": 2
}
