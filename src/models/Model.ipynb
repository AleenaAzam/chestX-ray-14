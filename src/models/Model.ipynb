{
 "cells": [
  {
   "cell_type": "code",
   "execution_count": 170,
   "metadata": {},
   "outputs": [],
   "source": [
    "import torchvision\n",
    "import pretrainedmodels\n",
    "import torch\n",
    "import pretrainedmodels.utils as utils\n",
    "import torchvision.transforms as transforms\n",
    "import torchvision.models as models\n",
    "import torch.nn as nn\n",
    "import torch.nn.functional as F\n",
    "from PIL import Image\n",
    "from collections import OrderedDict"
   ]
  },
  {
   "cell_type": "code",
   "execution_count": 176,
   "metadata": {},
   "outputs": [],
   "source": [
    "load_img = utils.LoadImage()\n",
    "\n",
    "# transformations depending on the model\n",
    "# rescale, center crop, normalize, and others (ex: ToBGR, ToRange255)\n",
    "tf_img = utils.TransformImage(model) \n",
    "\n",
    "path_img = '/home/dattran/data/xray/00000013_029.png'\n",
    "\n",
    "input_img = load_img(path_img)\n",
    "input_tensor = tf_img(input_img)         # 3x400x225 -> 3x299x299 size may differ\n",
    "input_tensor = input_tensor.unsqueeze(0) # 3x299x299 -> 1x3x299x299\n",
    "input = torch.autograd.Variable(input_tensor,\n",
    "    requires_grad=False)"
   ]
  },
  {
   "cell_type": "code",
   "execution_count": 178,
   "metadata": {},
   "outputs": [],
   "source": [
    "class Resnet(nn.Module):\n",
    "    def __init__(self, variant):\n",
    "        super(Resnet, self).__init__()\n",
    "        assert variant in ['resnet50', 'resnet101', 'resnet152']\n",
    "        model = pretrainedmodels.__dict__[variant](num_classes=1000, pretrained='imagenet')\n",
    "        self.features = nn.Sequential(OrderedDict([\n",
    "            ('conv1', model.conv1),\n",
    "            ('bn1', model.bn1),\n",
    "            ('relu', model.relu),\n",
    "            ('maxpool', model.maxpool),\n",
    "            ('layer1', model.layer1),\n",
    "            ('layer2', model.layer2),\n",
    "            ('layer3', model.layer3),\n",
    "            ('layer4', model.layer4),\n",
    "            ('avgpoll', model.avgpool)\n",
    "        ]))\n",
    "        num_ftrs = model.last_linear.in_features\n",
    "        self.classifier = nn.Sequential(\n",
    "            nn.Linear(num_ftrs, 14),\n",
    "            nn.Sigmoid()\n",
    "        )\n",
    "        \n",
    "        \n",
    "    def forward(self, x):\n",
    "        x = self.features(x) # 1x2048x7x7\n",
    "        s = x.size()[3] # 7 if input image is 224x224, 16 if input image is 512x512\n",
    "        x = F.avg_pool2d(x, kernel_size=s, stride=1) # 1x2048x1x1\n",
    "        x = x.view(x.size(0), -1) # 1x2048\n",
    "        x = self.classifier(x) # 1x1000\n",
    "        return x"
   ]
  },
  {
   "cell_type": "code",
   "execution_count": 181,
   "metadata": {},
   "outputs": [],
   "source": [
    "class DenseNet(nn.Module):\n",
    "    \n",
    "    def __init__(self, variant):\n",
    "        super(DenseNet, self).__init__()\n",
    "        assert variant in ['densenet121', 'densenet161', 'densenet201']\n",
    "        model = pretrainedmodels.__dict__[variant](num_classes=1000, pretrained='imagenet')\n",
    "        self.features = model.features\n",
    "        num_ftrs = model.last_linear.in_features\n",
    "        self.classifier = nn.Sequential(\n",
    "            nn.Linear(num_ftrs, 14),\n",
    "            nn.Sigmoid()\n",
    "        )\n",
    "        \n",
    "    def forward(self, x):\n",
    "        x = self.features(x) # 1x1024x7x7\n",
    "        s = x.size()[3] # 7 if input image is 224x224, 16 if input image is 512x512\n",
    "        x = F.relu(x, inplace=True) # 1x1024x7x7\n",
    "        x = F.avg_pool2d(x, kernel_size=s, stride=1) # 1x1024x1x1\n",
    "        x = x.view(x.size(0), -1) # 1x1024\n",
    "        x = self.classifier(x) # 1x1000\n",
    "        return x"
   ]
  },
  {
   "cell_type": "code",
   "execution_count": null,
   "metadata": {},
   "outputs": [],
   "source": []
  }
 ],
 "metadata": {
  "kernelspec": {
   "display_name": "Python 3",
   "language": "python",
   "name": "python3"
  },
  "language_info": {
   "codemirror_mode": {
    "name": "ipython",
    "version": 3
   },
   "file_extension": ".py",
   "mimetype": "text/x-python",
   "name": "python",
   "nbconvert_exporter": "python",
   "pygments_lexer": "ipython3",
   "version": "3.6.4"
  }
 },
 "nbformat": 4,
 "nbformat_minor": 2
}
