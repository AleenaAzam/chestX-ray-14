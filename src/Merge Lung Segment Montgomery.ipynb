{
 "cells": [
  {
   "cell_type": "code",
   "execution_count": null,
   "metadata": {},
   "outputs": [],
   "source": [
    "## Merge left and right mask\n",
    "\n",
    "image.max(), image.min()\n",
    "\n",
    "mask = np.array(Image.open(PATH/LEFT_MASK_DN/image_name))\n",
    "print(mask.max(), mask.min(), type(mask[0, 0]))\n",
    "mask = np.array(list(Image.open(PATH/RIGHT_MASK_DN/image_name).getdata()))\n",
    "print(mask.max(), mask.min(), type(mask[0]))\n",
    "\n",
    "#\n",
    "image_names = os.listdir(IMAGE_PATH)\n",
    "for image_name in image_names:\n",
    "    if 'png' not in image_name:\n",
    "        continue\n",
    "    right_mask = np.array(Image.open(PATH/RIGHT_MASK_DN/image_name))\n",
    "    left_mask = np.array(Image.open(PATH/LEFT_MASK_DN/image_name))\n",
    "    mask = ((np.logical_or(right_mask, left_mask)) * 255).astype(np.uint8) # image is 8bit unit\n",
    "#     print(mask.max(), mask.min(), mask.shape, type(mask[0, 0]))\n",
    "    Image.fromarray(mask).save(PATH/MASK_DN/image_name)\n",
    "#     break\n",
    "\n",
    "image_name = 'MCUCXR_0021_0.png'\n",
    "mask = np.array(Image.open(PATH/MASK_DN/image_name))\n",
    "print(mask.max(), mask.min())\n",
    "mask = open_image(MASK_PATH/image_name)\n",
    "print(mask.max(), mask.min())\n",
    "\n",
    "## Test on carvana\n",
    "PATH = Path('/mnt/data/kaggle/carvana')\n",
    "MASKS_DN = PATH/'train_masks_png'\n",
    "image_name = '90b65c521a8b_10_mask.png'\n",
    "image = np.array(Image.open(MASKS_DN/image_name))\n",
    "image.max(), image.min()"
   ]
  }
 ],
 "metadata": {
  "kernelspec": {
   "display_name": "Python 3",
   "language": "python",
   "name": "python3"
  },
  "language_info": {
   "codemirror_mode": {
    "name": "ipython",
    "version": 3
   },
   "file_extension": ".py",
   "mimetype": "text/x-python",
   "name": "python",
   "nbconvert_exporter": "python",
   "pygments_lexer": "ipython3",
   "version": "3.7.0"
  }
 },
 "nbformat": 4,
 "nbformat_minor": 2
}
