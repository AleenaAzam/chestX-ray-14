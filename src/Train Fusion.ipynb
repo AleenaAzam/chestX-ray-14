{
 "cells": [
  {
   "cell_type": "code",
   "execution_count": 10,
   "metadata": {},
   "outputs": [],
   "source": [
    "%matplotlib inline\n",
    "%reload_ext autoreload\n",
    "%autoreload 2"
   ]
  },
  {
   "cell_type": "markdown",
   "metadata": {},
   "source": [
    "# Train fusion model"
   ]
  },
  {
   "cell_type": "code",
   "execution_count": 11,
   "metadata": {},
   "outputs": [],
   "source": [
    "from fastai.conv_learner import *\n",
    "# import pixiedust\n",
    "from matplotlib.patches import Rectangle\n",
    "from datetime import datetime\n",
    "import pandas as pd\n",
    "\n",
    "import torch\n",
    "from layers import *\n",
    "from constant import *\n",
    "from transform import chest_xray_transfrom\n",
    "from metrics import *\n",
    "import pretrainedmodels\n",
    "from recorder import TrainingRecoder\n",
    "import pretrainedmodels\n",
    "from dataset import ChestXray14Dataset\n",
    "from model_data import ModelData\n",
    "from chexnet import ChexNet\n",
    "from utils import get_chestxray_from_csv"
   ]
  },
  {
   "cell_type": "code",
   "execution_count": 3,
   "metadata": {},
   "outputs": [],
   "source": [
    "percentage = 0.1"
   ]
  },
  {
   "cell_type": "code",
   "execution_count": 4,
   "metadata": {},
   "outputs": [],
   "source": [
    "local_branch = ChexNet(True, '20190203-101248')\n",
    "global_branch = ChexNet(True, '20180429-130928')"
   ]
  },
  {
   "cell_type": "code",
   "execution_count": 17,
   "metadata": {},
   "outputs": [],
   "source": [
    "def get_chestxray_from_csv():\n",
    "    result = []\n",
    "    for f in [PATH/TRAIN_CSV, PATH/VAL_CSV, PATH/TEST_CSV]:\n",
    "        df = pd.read_csv(f, sep=' ', header=None)\n",
    "        images = df.iloc[:, 0].values\n",
    "        labels = df.iloc[:, 1:].values\n",
    "        result.append((images, labels))\n",
    "    return result\n",
    "\n"
   ]
  }
 ],
 "metadata": {
  "kernelspec": {
   "display_name": "Python 3",
   "language": "python",
   "name": "python3"
  },
  "language_info": {
   "codemirror_mode": {
    "name": "ipython",
    "version": 3
   },
   "file_extension": ".py",
   "mimetype": "text/x-python",
   "name": "python",
   "nbconvert_exporter": "python",
   "pygments_lexer": "ipython3",
   "version": "3.7.0"
  }
 },
 "nbformat": 4,
 "nbformat_minor": 2
}
